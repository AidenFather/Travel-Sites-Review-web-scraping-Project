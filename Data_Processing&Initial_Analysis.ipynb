{
 "cells": [
  {
   "cell_type": "code",
   "execution_count": 1,
   "metadata": {
    "scrolled": true
   },
   "outputs": [],
   "source": [
    "import numpy as np\n",
    "import pandas as pd\n",
    "import re\n",
    "from datetime import datetime\n",
    "import seaborn as sns\n",
    "import matplotlib.pyplot as plt\n",
    "from decimal import *\n",
    "import string\n",
    "import matplotlib.pyplot as plt\n",
    "from scipy import stats\n",
    "%matplotlib inline"
   ]
  },
  {
   "cell_type": "markdown",
   "metadata": {},
   "source": [
    "# Load Data"
   ]
  },
  {
   "cell_type": "code",
   "execution_count": 2,
   "metadata": {},
   "outputs": [],
   "source": [
    "df = pd.read_csv('data/consumer_reviews.csv')"
   ]
  },
  {
   "cell_type": "code",
   "execution_count": 3,
   "metadata": {},
   "outputs": [
    {
     "name": "stdout",
     "output_type": "stream",
     "text": [
      "Number of Rows: 35358\n",
      "Number of Columns: 8\n"
     ]
    }
   ],
   "source": [
    "print(\"Number of Rows:\",df.shape[0])\n",
    "print(\"Number of Columns:\", df.shape[1])"
   ]
  },
  {
   "cell_type": "code",
   "execution_count": 6,
   "metadata": {},
   "outputs": [
    {
     "data": {
      "text/html": [
       "<div>\n",
       "<style scoped>\n",
       "    .dataframe tbody tr th:only-of-type {\n",
       "        vertical-align: middle;\n",
       "    }\n",
       "\n",
       "    .dataframe tbody tr th {\n",
       "        vertical-align: top;\n",
       "    }\n",
       "\n",
       "    .dataframe thead th {\n",
       "        text-align: right;\n",
       "    }\n",
       "</style>\n",
       "<table border=\"1\" class=\"dataframe\">\n",
       "  <thead>\n",
       "    <tr style=\"text-align: right;\">\n",
       "      <th></th>\n",
       "      <th>Data Type</th>\n",
       "    </tr>\n",
       "  </thead>\n",
       "  <tbody>\n",
       "    <tr>\n",
       "      <th>helpful</th>\n",
       "      <td>object</td>\n",
       "    </tr>\n",
       "    <tr>\n",
       "      <th>rating</th>\n",
       "      <td>float64</td>\n",
       "    </tr>\n",
       "    <tr>\n",
       "      <th>review_date</th>\n",
       "      <td>object</td>\n",
       "    </tr>\n",
       "    <tr>\n",
       "      <th>site</th>\n",
       "      <td>object</td>\n",
       "    </tr>\n",
       "    <tr>\n",
       "      <th>text</th>\n",
       "      <td>object</td>\n",
       "    </tr>\n",
       "    <tr>\n",
       "      <th>user</th>\n",
       "      <td>object</td>\n",
       "    </tr>\n",
       "    <tr>\n",
       "      <th>verified_buyer</th>\n",
       "      <td>object</td>\n",
       "    </tr>\n",
       "    <tr>\n",
       "      <th>verified_reviewer</th>\n",
       "      <td>object</td>\n",
       "    </tr>\n",
       "  </tbody>\n",
       "</table>\n",
       "</div>"
      ],
      "text/plain": [
       "                  Data Type\n",
       "helpful              object\n",
       "rating              float64\n",
       "review_date          object\n",
       "site                 object\n",
       "text                 object\n",
       "user                 object\n",
       "verified_buyer       object\n",
       "verified_reviewer    object"
      ]
     },
     "execution_count": 6,
     "metadata": {},
     "output_type": "execute_result"
    }
   ],
   "source": [
    "pd.DataFrame(df.dtypes, columns=[\"Data Type\"])"
   ]
  },
  {
   "cell_type": "code",
   "execution_count": 99,
   "metadata": {},
   "outputs": [
    {
     "data": {
      "text/html": [
       "<div>\n",
       "<style scoped>\n",
       "    .dataframe tbody tr th:only-of-type {\n",
       "        vertical-align: middle;\n",
       "    }\n",
       "\n",
       "    .dataframe tbody tr th {\n",
       "        vertical-align: top;\n",
       "    }\n",
       "\n",
       "    .dataframe thead th {\n",
       "        text-align: right;\n",
       "    }\n",
       "</style>\n",
       "<table border=\"1\" class=\"dataframe\">\n",
       "  <thead>\n",
       "    <tr style=\"text-align: right;\">\n",
       "      <th></th>\n",
       "      <th>helpful</th>\n",
       "      <th>rating</th>\n",
       "      <th>review_date</th>\n",
       "      <th>site</th>\n",
       "      <th>text</th>\n",
       "      <th>user</th>\n",
       "      <th>verified_buyer</th>\n",
       "      <th>verified_reviewer</th>\n",
       "    </tr>\n",
       "  </thead>\n",
       "  <tbody>\n",
       "    <tr>\n",
       "      <th>0</th>\n",
       "      <td>2 people</td>\n",
       "      <td>5.0</td>\n",
       "      <td>Original review: May 26, 2019</td>\n",
       "      <td>BookIt.com</td>\n",
       "      <td>Just saved $600. on BookIt vs. another web sit...</td>\n",
       "      <td>Stuart of Springfield, IL</td>\n",
       "      <td>\\n                    Verified Buyer\\n        ...</td>\n",
       "      <td>\\n                    Verified Reviewer\\n     ...</td>\n",
       "    </tr>\n",
       "    <tr>\n",
       "      <th>1</th>\n",
       "      <td>8 people</td>\n",
       "      <td>5.0</td>\n",
       "      <td>Original review: March 28, 2019</td>\n",
       "      <td>BookIt.com</td>\n",
       "      <td>I had a great experience with BookIt. I needed...</td>\n",
       "      <td>Nichole of Roseville, CA</td>\n",
       "      <td>\\n                    Verified Buyer\\n        ...</td>\n",
       "      <td>\\n                    Verified Reviewer\\n     ...</td>\n",
       "    </tr>\n",
       "    <tr>\n",
       "      <th>2</th>\n",
       "      <td>7 people</td>\n",
       "      <td>5.0</td>\n",
       "      <td>Original review: Feb. 10, 2019</td>\n",
       "      <td>BookIt.com</td>\n",
       "      <td>I have had nothing but courteous patient and w...</td>\n",
       "      <td>Cheryl of Corfu, NY</td>\n",
       "      <td>\\n                    Verified Buyer\\n        ...</td>\n",
       "      <td>\\n                    Verified Reviewer\\n     ...</td>\n",
       "    </tr>\n",
       "    <tr>\n",
       "      <th>3</th>\n",
       "      <td>4 people</td>\n",
       "      <td>5.0</td>\n",
       "      <td>Original review: May 22, 2019</td>\n",
       "      <td>BookIt.com</td>\n",
       "      <td>I just want to let you know that I had talked ...</td>\n",
       "      <td>Lisa of Flushing, MI</td>\n",
       "      <td>\\n                    Verified Buyer\\n        ...</td>\n",
       "      <td>\\n                    Verified Reviewer\\n     ...</td>\n",
       "    </tr>\n",
       "    <tr>\n",
       "      <th>4</th>\n",
       "      <td>4 people</td>\n",
       "      <td>4.0</td>\n",
       "      <td>Original review: April 13, 2019</td>\n",
       "      <td>BookIt.com</td>\n",
       "      <td>I called to verify one of the All Inclusive Fe...</td>\n",
       "      <td>Brandon of Honolulu, HI</td>\n",
       "      <td>\\n                    Verified Buyer\\n        ...</td>\n",
       "      <td>\\n                    Verified Reviewer\\n     ...</td>\n",
       "    </tr>\n",
       "  </tbody>\n",
       "</table>\n",
       "</div>"
      ],
      "text/plain": [
       "    helpful  rating                      review_date        site  \\\n",
       "0  2 people     5.0    Original review: May 26, 2019  BookIt.com   \n",
       "1  8 people     5.0  Original review: March 28, 2019  BookIt.com   \n",
       "2  7 people     5.0   Original review: Feb. 10, 2019  BookIt.com   \n",
       "3  4 people     5.0    Original review: May 22, 2019  BookIt.com   \n",
       "4  4 people     4.0  Original review: April 13, 2019  BookIt.com   \n",
       "\n",
       "                                                text  \\\n",
       "0  Just saved $600. on BookIt vs. another web sit...   \n",
       "1  I had a great experience with BookIt. I needed...   \n",
       "2  I have had nothing but courteous patient and w...   \n",
       "3  I just want to let you know that I had talked ...   \n",
       "4  I called to verify one of the All Inclusive Fe...   \n",
       "\n",
       "                        user  \\\n",
       "0  Stuart of Springfield, IL   \n",
       "1   Nichole of Roseville, CA   \n",
       "2        Cheryl of Corfu, NY   \n",
       "3       Lisa of Flushing, MI   \n",
       "4    Brandon of Honolulu, HI   \n",
       "\n",
       "                                      verified_buyer  \\\n",
       "0  \\n                    Verified Buyer\\n        ...   \n",
       "1  \\n                    Verified Buyer\\n        ...   \n",
       "2  \\n                    Verified Buyer\\n        ...   \n",
       "3  \\n                    Verified Buyer\\n        ...   \n",
       "4  \\n                    Verified Buyer\\n        ...   \n",
       "\n",
       "                                   verified_reviewer  \n",
       "0  \\n                    Verified Reviewer\\n     ...  \n",
       "1  \\n                    Verified Reviewer\\n     ...  \n",
       "2  \\n                    Verified Reviewer\\n     ...  \n",
       "3  \\n                    Verified Reviewer\\n     ...  \n",
       "4  \\n                    Verified Reviewer\\n     ...  "
      ]
     },
     "execution_count": 99,
     "metadata": {},
     "output_type": "execute_result"
    }
   ],
   "source": [
    "df.head()"
   ]
  },
  {
   "cell_type": "markdown",
   "metadata": {},
   "source": [
    "# Data cleaning"
   ]
  },
  {
   "cell_type": "code",
   "execution_count": 7,
   "metadata": {},
   "outputs": [],
   "source": [
    "# Fill na with empty string\n",
    "df['helpful'] = df['helpful'].fillna('')\n",
    "df['rating'] = df['rating'].fillna('')\n",
    "df['text'] = df['text'].fillna('')\n",
    "df['verified_buyer'] = df['verified_buyer'].fillna('')\n",
    "df['verified_reviewer'] = df['verified_reviewer'].fillna('')"
   ]
  },
  {
   "cell_type": "code",
   "execution_count": 8,
   "metadata": {},
   "outputs": [],
   "source": [
    "# new data frame with split value columns \n",
    "new = df['user'].str.split(\", \", n = 1, expand = True) \n",
    "  \n",
    "# making separate first name column from new data frame \n",
    "df['city']= new[0] \n",
    "  \n",
    "# making separate last name column from new data frame \n",
    "df['state']= new[1] "
   ]
  },
  {
   "cell_type": "code",
   "execution_count": 9,
   "metadata": {},
   "outputs": [],
   "source": [
    "# Dropping old Name columns \n",
    "df.drop(columns =['user'], inplace = True) "
   ]
  },
  {
   "cell_type": "code",
   "execution_count": 10,
   "metadata": {},
   "outputs": [],
   "source": [
    "# Remove 'helpful' \n",
    "df['helpful'] = df['helpful'].apply(lambda x: re.sub('(\\w)+$','',x))"
   ]
  },
  {
   "cell_type": "code",
   "execution_count": 11,
   "metadata": {},
   "outputs": [],
   "source": [
    "# \\S+ means anything that is not an empty space\n",
    "df['verified_buyer'] = df['verified_buyer'].apply(lambda x: re.sub('\\n\\S*', '', x))\n",
    "df['verified_reviewer'] = df['verified_reviewer'].apply(lambda x: re.sub('\\n\\S*', '', x))\n",
    "\n",
    "# \\s+ means all empty space (\\n, \\r, \\t)\n",
    "df['verified_buyer'] = df['verified_buyer'].apply(lambda x: re.sub('\\s+', '', x))\n",
    "df['verified_reviewer'] = df['verified_reviewer'].apply(lambda x: re.sub('\\s+', '', x))\n",
    "\n",
    "#Date selection from ['review_date']\n",
    "df['review_date'] = df['review_date'].apply(lambda x: re.sub('(Original review:)+', '',x))"
   ]
  },
  {
   "cell_type": "code",
   "execution_count": 12,
   "metadata": {},
   "outputs": [],
   "source": [
    "# Clean 'review_date'\n",
    "df['review_date'] = df.review_date.map(lambda x: x.replace(',',''))\n",
    "df['review_date'] = df['review_date'].str.replace('[^\\w\\s]','')\n",
    "df['review_date'] = df['review_date'].str.replace('March', 'Mar')\n",
    "df['review_date'] = df['review_date'].str.replace('April', 'Apr')\n",
    "df['review_date'] = df['review_date'].str.replace('June', 'Jun')\n",
    "df['review_date'] = df['review_date'].str.replace('July', 'Jul')\n",
    "df['review_date'] = df['review_date'].str.replace('Sept', 'Sep')\n",
    "df['review_date'] = df['review_date'].str.strip('Resolution response ')"
   ]
  },
  {
   "cell_type": "code",
   "execution_count": 13,
   "metadata": {},
   "outputs": [],
   "source": [
    "# Convert 'review_date' data type\n",
    "df['review_date'] = pd.to_datetime(df['review_date'])"
   ]
  },
  {
   "cell_type": "code",
   "execution_count": 17,
   "metadata": {},
   "outputs": [
    {
     "data": {
      "text/plain": [
       "0        2 \n",
       "1        8 \n",
       "2        7 \n",
       "3        4 \n",
       "4        4 \n",
       "         ..\n",
       "35353      \n",
       "35354    4 \n",
       "35355    2 \n",
       "35356      \n",
       "35357    2 \n",
       "Name: helpful, Length: 35358, dtype: object"
      ]
     },
     "execution_count": 17,
     "metadata": {},
     "output_type": "execute_result"
    }
   ],
   "source": [
    "df['helpful']"
   ]
  },
  {
   "cell_type": "code",
   "execution_count": 20,
   "metadata": {},
   "outputs": [],
   "source": [
    "# Convert 'helpful' and 'rating' data type\n",
    "df['helpful'] = df['helpful'].apply(pd.to_numeric, downcast='float', errors='coerce')\n",
    "df['rating'] = df['rating'].apply(pd.to_numeric, downcast='float', errors='coerce')"
   ]
  },
  {
   "cell_type": "code",
   "execution_count": 21,
   "metadata": {},
   "outputs": [],
   "source": [
    "#travel sites: \n",
    "#'BookIt.com', 'CheapOair', 'Expedia', 'Priceline','Booking.com', 'Hotels.com','Travelocity', 'Hotwire',\n",
    "#'Orbitz', 'OneTravel', 'TripAdvisor', 'Airbnb', 'CheapTickets', 'trivago', 'KAYAK', 'Travelzoo', 'Hipmunk', \n",
    "#'Jetsetter'\n",
    "\n",
    "BookIt = df.loc[df.loc[:,'site']=='BookIt.com',:]\n",
    "CheapOair = df.loc[df.loc[:,'site']=='CheapOair',:] \n",
    "Expedia = df.loc[df.loc[:,'site']=='Expedia',:]\n",
    "Priceline = df.loc[df.loc[:,'site']=='Priceline',:]\n",
    "Booking = df.loc[df.loc[:,'site']=='Booking.com',:]\n",
    "Hotels = df.loc[df.loc[:,'site']=='Hotels.com',:]\n",
    "Travelocity = df.loc[df.loc[:,'site']=='Travelocity',:]\n",
    "Hotwire = df.loc[df.loc[:,'site']=='Hotwire',:]\n",
    "Orbitz = df.loc[df.loc[:,'site']=='Orbitz',:]\n",
    "OneTravel = df.loc[df.loc[:,'site']=='OneTravel',:]\n",
    "TripAdvisor = df.loc[df.loc[:,'site']=='TripAdvisor',:]\n",
    "Airbnb = df.loc[df.loc[:,'site']=='Airbnb',:]\n",
    "CheapTickets = df.loc[df.loc[:,'site']=='CheapTickets',:]\n",
    "trivago = df.loc[df.loc[:,'site']=='trivago',:]\n",
    "KAYAK = df.loc[df.loc[:,'site']=='KAYAK',:]\n",
    "Travelzoo = df.loc[df.loc[:,'site']=='Travelzoo',:]\n",
    "Hipmunk = df.loc[df.loc[:,'site']=='Hipmunk',:]"
   ]
  },
  {
   "cell_type": "code",
   "execution_count": 22,
   "metadata": {},
   "outputs": [
    {
     "data": {
      "text/html": [
       "<div>\n",
       "<style scoped>\n",
       "    .dataframe tbody tr th:only-of-type {\n",
       "        vertical-align: middle;\n",
       "    }\n",
       "\n",
       "    .dataframe tbody tr th {\n",
       "        vertical-align: top;\n",
       "    }\n",
       "\n",
       "    .dataframe thead th {\n",
       "        text-align: right;\n",
       "    }\n",
       "</style>\n",
       "<table border=\"1\" class=\"dataframe\">\n",
       "  <thead>\n",
       "    <tr style=\"text-align: right;\">\n",
       "      <th></th>\n",
       "      <th>helpful</th>\n",
       "      <th>rating</th>\n",
       "      <th>review_date</th>\n",
       "      <th>site</th>\n",
       "      <th>text</th>\n",
       "      <th>verified_buyer</th>\n",
       "      <th>verified_reviewer</th>\n",
       "      <th>city</th>\n",
       "      <th>state</th>\n",
       "    </tr>\n",
       "  </thead>\n",
       "  <tbody>\n",
       "    <tr>\n",
       "      <th>0</th>\n",
       "      <td>2.0</td>\n",
       "      <td>5.0</td>\n",
       "      <td>2019-05-26</td>\n",
       "      <td>BookIt.com</td>\n",
       "      <td>Just saved $600. on BookIt vs. another web sit...</td>\n",
       "      <td>VerifiedBuyer</td>\n",
       "      <td>VerifiedReviewer</td>\n",
       "      <td>Stuart of Springfield</td>\n",
       "      <td>IL</td>\n",
       "    </tr>\n",
       "    <tr>\n",
       "      <th>1</th>\n",
       "      <td>8.0</td>\n",
       "      <td>5.0</td>\n",
       "      <td>2019-03-28</td>\n",
       "      <td>BookIt.com</td>\n",
       "      <td>I had a great experience with BookIt. I needed...</td>\n",
       "      <td>VerifiedBuyer</td>\n",
       "      <td>VerifiedReviewer</td>\n",
       "      <td>Nichole of Roseville</td>\n",
       "      <td>CA</td>\n",
       "    </tr>\n",
       "    <tr>\n",
       "      <th>2</th>\n",
       "      <td>7.0</td>\n",
       "      <td>5.0</td>\n",
       "      <td>2019-02-10</td>\n",
       "      <td>BookIt.com</td>\n",
       "      <td>I have had nothing but courteous patient and w...</td>\n",
       "      <td>VerifiedBuyer</td>\n",
       "      <td>VerifiedReviewer</td>\n",
       "      <td>Cheryl of Corfu</td>\n",
       "      <td>NY</td>\n",
       "    </tr>\n",
       "    <tr>\n",
       "      <th>3</th>\n",
       "      <td>4.0</td>\n",
       "      <td>5.0</td>\n",
       "      <td>2019-05-22</td>\n",
       "      <td>BookIt.com</td>\n",
       "      <td>I just want to let you know that I had talked ...</td>\n",
       "      <td>VerifiedBuyer</td>\n",
       "      <td>VerifiedReviewer</td>\n",
       "      <td>Lisa of Flushing</td>\n",
       "      <td>MI</td>\n",
       "    </tr>\n",
       "    <tr>\n",
       "      <th>4</th>\n",
       "      <td>4.0</td>\n",
       "      <td>4.0</td>\n",
       "      <td>2019-04-13</td>\n",
       "      <td>BookIt.com</td>\n",
       "      <td>I called to verify one of the All Inclusive Fe...</td>\n",
       "      <td>VerifiedBuyer</td>\n",
       "      <td>VerifiedReviewer</td>\n",
       "      <td>Brandon of Honolulu</td>\n",
       "      <td>HI</td>\n",
       "    </tr>\n",
       "  </tbody>\n",
       "</table>\n",
       "</div>"
      ],
      "text/plain": [
       "   helpful  rating review_date        site  \\\n",
       "0      2.0     5.0  2019-05-26  BookIt.com   \n",
       "1      8.0     5.0  2019-03-28  BookIt.com   \n",
       "2      7.0     5.0  2019-02-10  BookIt.com   \n",
       "3      4.0     5.0  2019-05-22  BookIt.com   \n",
       "4      4.0     4.0  2019-04-13  BookIt.com   \n",
       "\n",
       "                                                text verified_buyer  \\\n",
       "0  Just saved $600. on BookIt vs. another web sit...  VerifiedBuyer   \n",
       "1  I had a great experience with BookIt. I needed...  VerifiedBuyer   \n",
       "2  I have had nothing but courteous patient and w...  VerifiedBuyer   \n",
       "3  I just want to let you know that I had talked ...  VerifiedBuyer   \n",
       "4  I called to verify one of the All Inclusive Fe...  VerifiedBuyer   \n",
       "\n",
       "  verified_reviewer                   city state  \n",
       "0  VerifiedReviewer  Stuart of Springfield    IL  \n",
       "1  VerifiedReviewer   Nichole of Roseville    CA  \n",
       "2  VerifiedReviewer        Cheryl of Corfu    NY  \n",
       "3  VerifiedReviewer       Lisa of Flushing    MI  \n",
       "4  VerifiedReviewer    Brandon of Honolulu    HI  "
      ]
     },
     "execution_count": 22,
     "metadata": {},
     "output_type": "execute_result"
    }
   ],
   "source": [
    "#Intermediate df\n",
    "df.head()"
   ]
  },
  {
   "cell_type": "markdown",
   "metadata": {},
   "source": [
    "- A **Verified Buyer** has purchased the reviewed product or service and provided proof of purchase history to ConsumerAffairs. This specification is intended to identify those members of our community who are submitting reviews of products that they own or services they've received. Any proof of purchase information submitted to ConsumerAffairs will not be displayed on our site or used for any other purpose.\n",
    "\n",
    "\n",
    "- A **Verified Reviewer** has created an account on ConsumerAffairs and confirmed his/her email address through our verification process, has logged in through a social media site like Facebook or Twitter that has confirmed the reviewer's identity, or has been identified by a company that has provided ConsumerAffairs with valid contact information for the reviewer. Verification ensures reviews are written by credible members of the ConsumerAffairs community."
   ]
  },
  {
   "cell_type": "code",
   "execution_count": 23,
   "metadata": {},
   "outputs": [
    {
     "data": {
      "text/html": [
       "<div>\n",
       "<style scoped>\n",
       "    .dataframe tbody tr th:only-of-type {\n",
       "        vertical-align: middle;\n",
       "    }\n",
       "\n",
       "    .dataframe tbody tr th {\n",
       "        vertical-align: top;\n",
       "    }\n",
       "\n",
       "    .dataframe thead th {\n",
       "        text-align: right;\n",
       "    }\n",
       "</style>\n",
       "<table border=\"1\" class=\"dataframe\">\n",
       "  <thead>\n",
       "    <tr style=\"text-align: right;\">\n",
       "      <th></th>\n",
       "      <th>site</th>\n",
       "      <th>frequency</th>\n",
       "    </tr>\n",
       "  </thead>\n",
       "  <tbody>\n",
       "    <tr>\n",
       "      <th>0</th>\n",
       "      <td>BookIt.com</td>\n",
       "      <td>7446</td>\n",
       "    </tr>\n",
       "    <tr>\n",
       "      <th>1</th>\n",
       "      <td>CheapOair</td>\n",
       "      <td>6294</td>\n",
       "    </tr>\n",
       "    <tr>\n",
       "      <th>2</th>\n",
       "      <td>Expedia</td>\n",
       "      <td>4507</td>\n",
       "    </tr>\n",
       "    <tr>\n",
       "      <th>3</th>\n",
       "      <td>Priceline</td>\n",
       "      <td>3675</td>\n",
       "    </tr>\n",
       "    <tr>\n",
       "      <th>4</th>\n",
       "      <td>Booking.com</td>\n",
       "      <td>3281</td>\n",
       "    </tr>\n",
       "    <tr>\n",
       "      <th>5</th>\n",
       "      <td>Hotels.com</td>\n",
       "      <td>2562</td>\n",
       "    </tr>\n",
       "    <tr>\n",
       "      <th>6</th>\n",
       "      <td>Travelocity</td>\n",
       "      <td>1432</td>\n",
       "    </tr>\n",
       "    <tr>\n",
       "      <th>7</th>\n",
       "      <td>Hotwire</td>\n",
       "      <td>1419</td>\n",
       "    </tr>\n",
       "    <tr>\n",
       "      <th>8</th>\n",
       "      <td>Orbitz</td>\n",
       "      <td>1133</td>\n",
       "    </tr>\n",
       "    <tr>\n",
       "      <th>9</th>\n",
       "      <td>OneTravel</td>\n",
       "      <td>1014</td>\n",
       "    </tr>\n",
       "    <tr>\n",
       "      <th>10</th>\n",
       "      <td>TripAdvisor</td>\n",
       "      <td>722</td>\n",
       "    </tr>\n",
       "    <tr>\n",
       "      <th>11</th>\n",
       "      <td>Airbnb</td>\n",
       "      <td>482</td>\n",
       "    </tr>\n",
       "    <tr>\n",
       "      <th>12</th>\n",
       "      <td>CheapTickets</td>\n",
       "      <td>460</td>\n",
       "    </tr>\n",
       "    <tr>\n",
       "      <th>13</th>\n",
       "      <td>trivago</td>\n",
       "      <td>113</td>\n",
       "    </tr>\n",
       "    <tr>\n",
       "      <th>14</th>\n",
       "      <td>KAYAK</td>\n",
       "      <td>99</td>\n",
       "    </tr>\n",
       "    <tr>\n",
       "      <th>15</th>\n",
       "      <td>Travelzoo</td>\n",
       "      <td>32</td>\n",
       "    </tr>\n",
       "    <tr>\n",
       "      <th>16</th>\n",
       "      <td>Hipmunk</td>\n",
       "      <td>18</td>\n",
       "    </tr>\n",
       "    <tr>\n",
       "      <th>17</th>\n",
       "      <td>Jetsetter</td>\n",
       "      <td>8</td>\n",
       "    </tr>\n",
       "  </tbody>\n",
       "</table>\n",
       "</div>"
      ],
      "text/plain": [
       "            site  frequency\n",
       "0     BookIt.com       7446\n",
       "1      CheapOair       6294\n",
       "2        Expedia       4507\n",
       "3      Priceline       3675\n",
       "4    Booking.com       3281\n",
       "5     Hotels.com       2562\n",
       "6    Travelocity       1432\n",
       "7        Hotwire       1419\n",
       "8         Orbitz       1133\n",
       "9      OneTravel       1014\n",
       "10   TripAdvisor        722\n",
       "11        Airbnb        482\n",
       "12  CheapTickets        460\n",
       "13       trivago        113\n",
       "14         KAYAK         99\n",
       "15     Travelzoo         32\n",
       "16       Hipmunk         18\n",
       "17     Jetsetter          8"
      ]
     },
     "execution_count": 23,
     "metadata": {},
     "output_type": "execute_result"
    }
   ],
   "source": [
    "#Initial review counts per site\n",
    "review_count = pd.DataFrame(df.site.value_counts()).reset_index()\n",
    "review_count.columns = ['site','frequency']\n",
    "review_count"
   ]
  },
  {
   "cell_type": "code",
   "execution_count": 24,
   "metadata": {},
   "outputs": [
    {
     "data": {
      "text/plain": [
       "Text(0, 0.5, 'Site')"
      ]
     },
     "execution_count": 24,
     "metadata": {},
     "output_type": "execute_result"
    },
    {
     "data": {
      "image/png": "[encoded data removed]",
      "text/plain": [
       "<Figure size 864x720 with 1 Axes>"
      ]
     },
     "metadata": {
      "needs_background": "light"
     },
     "output_type": "display_data"
    }
   ],
   "source": [
    "plt.figure(figsize=(12, 10))\n",
    "g1 = sns.barplot(x=df.site.value_counts(), y=df.site.value_counts().index, color = (0.2, 0.4, 0.6, 0.6))\n",
    "#ax.set(xlabel='Counts', ylabel='State')\n",
    "g1.set_xlabel(\"Review Count\",fontsize=25)\n",
    "g1.set_ylabel(\"Site\",fontsize=25)\n"
   ]
  },
  {
   "cell_type": "markdown",
   "metadata": {},
   "source": [
    "# Initial analysis "
   ]
  },
  {
   "cell_type": "code",
   "execution_count": 25,
   "metadata": {},
   "outputs": [
    {
     "data": {
      "text/html": [
       "<div>\n",
       "<style scoped>\n",
       "    .dataframe tbody tr th:only-of-type {\n",
       "        vertical-align: middle;\n",
       "    }\n",
       "\n",
       "    .dataframe tbody tr th {\n",
       "        vertical-align: top;\n",
       "    }\n",
       "\n",
       "    .dataframe thead tr th {\n",
       "        text-align: left;\n",
       "    }\n",
       "\n",
       "    .dataframe thead tr:last-of-type th {\n",
       "        text-align: right;\n",
       "    }\n",
       "</style>\n",
       "<table border=\"1\" class=\"dataframe\">\n",
       "  <thead>\n",
       "    <tr>\n",
       "      <th></th>\n",
       "      <th colspan=\"8\" halign=\"left\">helpful</th>\n",
       "    </tr>\n",
       "    <tr>\n",
       "      <th></th>\n",
       "      <th>count</th>\n",
       "      <th>mean</th>\n",
       "      <th>std</th>\n",
       "      <th>min</th>\n",
       "      <th>25%</th>\n",
       "      <th>50%</th>\n",
       "      <th>75%</th>\n",
       "      <th>max</th>\n",
       "    </tr>\n",
       "    <tr>\n",
       "      <th>rating</th>\n",
       "      <th></th>\n",
       "      <th></th>\n",
       "      <th></th>\n",
       "      <th></th>\n",
       "      <th></th>\n",
       "      <th></th>\n",
       "      <th></th>\n",
       "      <th></th>\n",
       "    </tr>\n",
       "  </thead>\n",
       "  <tbody>\n",
       "    <tr>\n",
       "      <th>1.0</th>\n",
       "      <td>14319.0</td>\n",
       "      <td>5.275927</td>\n",
       "      <td>3.974661</td>\n",
       "      <td>2.0</td>\n",
       "      <td>3.0</td>\n",
       "      <td>4.0</td>\n",
       "      <td>6.0</td>\n",
       "      <td>49.0</td>\n",
       "    </tr>\n",
       "    <tr>\n",
       "      <th>2.0</th>\n",
       "      <td>590.0</td>\n",
       "      <td>5.194915</td>\n",
       "      <td>4.795758</td>\n",
       "      <td>2.0</td>\n",
       "      <td>2.0</td>\n",
       "      <td>4.0</td>\n",
       "      <td>6.0</td>\n",
       "      <td>72.0</td>\n",
       "    </tr>\n",
       "    <tr>\n",
       "      <th>3.0</th>\n",
       "      <td>146.0</td>\n",
       "      <td>4.561644</td>\n",
       "      <td>5.755924</td>\n",
       "      <td>2.0</td>\n",
       "      <td>2.0</td>\n",
       "      <td>3.0</td>\n",
       "      <td>5.0</td>\n",
       "      <td>61.0</td>\n",
       "    </tr>\n",
       "    <tr>\n",
       "      <th>4.0</th>\n",
       "      <td>136.0</td>\n",
       "      <td>3.860294</td>\n",
       "      <td>5.959335</td>\n",
       "      <td>2.0</td>\n",
       "      <td>2.0</td>\n",
       "      <td>3.0</td>\n",
       "      <td>4.0</td>\n",
       "      <td>67.0</td>\n",
       "    </tr>\n",
       "    <tr>\n",
       "      <th>5.0</th>\n",
       "      <td>371.0</td>\n",
       "      <td>4.439353</td>\n",
       "      <td>8.529026</td>\n",
       "      <td>2.0</td>\n",
       "      <td>2.0</td>\n",
       "      <td>3.0</td>\n",
       "      <td>4.0</td>\n",
       "      <td>115.0</td>\n",
       "    </tr>\n",
       "  </tbody>\n",
       "</table>\n",
       "</div>"
      ],
      "text/plain": [
       "        helpful                                               \n",
       "          count      mean       std  min  25%  50%  75%    max\n",
       "rating                                                        \n",
       "1.0     14319.0  5.275927  3.974661  2.0  3.0  4.0  6.0   49.0\n",
       "2.0       590.0  5.194915  4.795758  2.0  2.0  4.0  6.0   72.0\n",
       "3.0       146.0  4.561644  5.755924  2.0  2.0  3.0  5.0   61.0\n",
       "4.0       136.0  3.860294  5.959335  2.0  2.0  3.0  4.0   67.0\n",
       "5.0       371.0  4.439353  8.529026  2.0  2.0  3.0  4.0  115.0"
      ]
     },
     "execution_count": 25,
     "metadata": {},
     "output_type": "execute_result"
    }
   ],
   "source": [
    "# Overall rating and helpful relationship\n",
    "df.groupby('rating').describe()"
   ]
  },
  {
   "cell_type": "code",
   "execution_count": 26,
   "metadata": {},
   "outputs": [
    {
     "data": {
      "text/plain": [
       "16574"
      ]
     },
     "execution_count": 26,
     "metadata": {},
     "output_type": "execute_result"
    }
   ],
   "source": [
    "# Total  of 'helpful' in df\n",
    "df['helpful'].count()"
   ]
  },
  {
   "cell_type": "code",
   "execution_count": 27,
   "metadata": {},
   "outputs": [
    {
     "data": {
      "text/plain": [
       "<seaborn.axisgrid.FacetGrid at 0x2198307a0d0>"
      ]
     },
     "execution_count": 27,
     "metadata": {},
     "output_type": "execute_result"
    },
    {
     "data": {
      "text/plain": [
       "<Figure size 1440x1296 with 0 Axes>"
      ]
     },
     "metadata": {},
     "output_type": "display_data"
    },
    {
     "data": {
      "image/png": "[encoded data removed]",
      "text/plain": [
       "<Figure size 360x360 with 1 Axes>"
      ]
     },
     "metadata": {
      "needs_background": "light"
     },
     "output_type": "display_data"
    }
   ],
   "source": [
    "# No. of 'helpful' per rating\n",
    "\n",
    "plt.figure(figsize=(20, 18))\n",
    "g2 = sns.catplot(x=\"rating\", y=\"helpful\", data=df)\n",
    "g2.set(xlabel='Review Rating Score', ylabel='Number of Helpful')\n"
   ]
  },
  {
   "cell_type": "code",
   "execution_count": 28,
   "metadata": {},
   "outputs": [],
   "source": [
    "# Review word count vs. Rating\n",
    "df['review_length'] = df['text'].apply(lambda x: len(x) - x.count(' '))"
   ]
  },
  {
   "cell_type": "code",
   "execution_count": 29,
   "metadata": {},
   "outputs": [
    {
     "data": {
      "text/html": [
       "<div>\n",
       "<style scoped>\n",
       "    .dataframe tbody tr th:only-of-type {\n",
       "        vertical-align: middle;\n",
       "    }\n",
       "\n",
       "    .dataframe tbody tr th {\n",
       "        vertical-align: top;\n",
       "    }\n",
       "\n",
       "    .dataframe thead tr th {\n",
       "        text-align: left;\n",
       "    }\n",
       "\n",
       "    .dataframe thead tr:last-of-type th {\n",
       "        text-align: right;\n",
       "    }\n",
       "</style>\n",
       "<table border=\"1\" class=\"dataframe\">\n",
       "  <thead>\n",
       "    <tr>\n",
       "      <th></th>\n",
       "      <th colspan=\"8\" halign=\"left\">helpful</th>\n",
       "      <th colspan=\"8\" halign=\"left\">review_length</th>\n",
       "    </tr>\n",
       "    <tr>\n",
       "      <th></th>\n",
       "      <th>count</th>\n",
       "      <th>mean</th>\n",
       "      <th>std</th>\n",
       "      <th>min</th>\n",
       "      <th>25%</th>\n",
       "      <th>50%</th>\n",
       "      <th>75%</th>\n",
       "      <th>max</th>\n",
       "      <th>count</th>\n",
       "      <th>mean</th>\n",
       "      <th>std</th>\n",
       "      <th>min</th>\n",
       "      <th>25%</th>\n",
       "      <th>50%</th>\n",
       "      <th>75%</th>\n",
       "      <th>max</th>\n",
       "    </tr>\n",
       "    <tr>\n",
       "      <th>rating</th>\n",
       "      <th></th>\n",
       "      <th></th>\n",
       "      <th></th>\n",
       "      <th></th>\n",
       "      <th></th>\n",
       "      <th></th>\n",
       "      <th></th>\n",
       "      <th></th>\n",
       "      <th></th>\n",
       "      <th></th>\n",
       "      <th></th>\n",
       "      <th></th>\n",
       "      <th></th>\n",
       "      <th></th>\n",
       "      <th></th>\n",
       "      <th></th>\n",
       "    </tr>\n",
       "  </thead>\n",
       "  <tbody>\n",
       "    <tr>\n",
       "      <th>1.0</th>\n",
       "      <td>14319.0</td>\n",
       "      <td>5.275927</td>\n",
       "      <td>3.974661</td>\n",
       "      <td>2.0</td>\n",
       "      <td>3.0</td>\n",
       "      <td>4.0</td>\n",
       "      <td>6.0</td>\n",
       "      <td>49.0</td>\n",
       "      <td>20400.0</td>\n",
       "      <td>475.195000</td>\n",
       "      <td>167.823433</td>\n",
       "      <td>0.0</td>\n",
       "      <td>354.00</td>\n",
       "      <td>474.0</td>\n",
       "      <td>598.00</td>\n",
       "      <td>1117.0</td>\n",
       "    </tr>\n",
       "    <tr>\n",
       "      <th>2.0</th>\n",
       "      <td>590.0</td>\n",
       "      <td>5.194915</td>\n",
       "      <td>4.795758</td>\n",
       "      <td>2.0</td>\n",
       "      <td>2.0</td>\n",
       "      <td>4.0</td>\n",
       "      <td>6.0</td>\n",
       "      <td>72.0</td>\n",
       "      <td>1304.0</td>\n",
       "      <td>430.934816</td>\n",
       "      <td>183.775021</td>\n",
       "      <td>0.0</td>\n",
       "      <td>278.00</td>\n",
       "      <td>428.0</td>\n",
       "      <td>568.00</td>\n",
       "      <td>1084.0</td>\n",
       "    </tr>\n",
       "    <tr>\n",
       "      <th>3.0</th>\n",
       "      <td>146.0</td>\n",
       "      <td>4.561644</td>\n",
       "      <td>5.755924</td>\n",
       "      <td>2.0</td>\n",
       "      <td>2.0</td>\n",
       "      <td>3.0</td>\n",
       "      <td>5.0</td>\n",
       "      <td>61.0</td>\n",
       "      <td>784.0</td>\n",
       "      <td>315.207908</td>\n",
       "      <td>178.896544</td>\n",
       "      <td>9.0</td>\n",
       "      <td>192.75</td>\n",
       "      <td>267.0</td>\n",
       "      <td>420.75</td>\n",
       "      <td>1075.0</td>\n",
       "    </tr>\n",
       "    <tr>\n",
       "      <th>4.0</th>\n",
       "      <td>136.0</td>\n",
       "      <td>3.860294</td>\n",
       "      <td>5.959335</td>\n",
       "      <td>2.0</td>\n",
       "      <td>2.0</td>\n",
       "      <td>3.0</td>\n",
       "      <td>4.0</td>\n",
       "      <td>67.0</td>\n",
       "      <td>1624.0</td>\n",
       "      <td>229.695197</td>\n",
       "      <td>145.943427</td>\n",
       "      <td>10.0</td>\n",
       "      <td>142.00</td>\n",
       "      <td>208.0</td>\n",
       "      <td>278.00</td>\n",
       "      <td>816.0</td>\n",
       "    </tr>\n",
       "    <tr>\n",
       "      <th>5.0</th>\n",
       "      <td>371.0</td>\n",
       "      <td>4.439353</td>\n",
       "      <td>8.529026</td>\n",
       "      <td>2.0</td>\n",
       "      <td>2.0</td>\n",
       "      <td>3.0</td>\n",
       "      <td>4.0</td>\n",
       "      <td>115.0</td>\n",
       "      <td>7361.0</td>\n",
       "      <td>211.196984</td>\n",
       "      <td>123.951551</td>\n",
       "      <td>10.0</td>\n",
       "      <td>137.00</td>\n",
       "      <td>205.0</td>\n",
       "      <td>252.00</td>\n",
       "      <td>1010.0</td>\n",
       "    </tr>\n",
       "  </tbody>\n",
       "</table>\n",
       "</div>"
      ],
      "text/plain": [
       "        helpful                                                review_length  \\\n",
       "          count      mean       std  min  25%  50%  75%    max         count   \n",
       "rating                                                                         \n",
       "1.0     14319.0  5.275927  3.974661  2.0  3.0  4.0  6.0   49.0       20400.0   \n",
       "2.0       590.0  5.194915  4.795758  2.0  2.0  4.0  6.0   72.0        1304.0   \n",
       "3.0       146.0  4.561644  5.755924  2.0  2.0  3.0  5.0   61.0         784.0   \n",
       "4.0       136.0  3.860294  5.959335  2.0  2.0  3.0  4.0   67.0        1624.0   \n",
       "5.0       371.0  4.439353  8.529026  2.0  2.0  3.0  4.0  115.0        7361.0   \n",
       "\n",
       "                                                                     \n",
       "              mean         std   min     25%    50%     75%     max  \n",
       "rating                                                               \n",
       "1.0     475.195000  167.823433   0.0  354.00  474.0  598.00  1117.0  \n",
       "2.0     430.934816  183.775021   0.0  278.00  428.0  568.00  1084.0  \n",
       "3.0     315.207908  178.896544   9.0  192.75  267.0  420.75  1075.0  \n",
       "4.0     229.695197  145.943427  10.0  142.00  208.0  278.00   816.0  \n",
       "5.0     211.196984  123.951551  10.0  137.00  205.0  252.00  1010.0  "
      ]
     },
     "execution_count": 29,
     "metadata": {},
     "output_type": "execute_result"
    }
   ],
   "source": [
    "df.groupby('rating').describe()"
   ]
  },
  {
   "cell_type": "code",
   "execution_count": 30,
   "metadata": {},
   "outputs": [
    {
     "data": {
      "text/plain": [
       "<seaborn.axisgrid.FacetGrid at 0x219c69e91f0>"
      ]
     },
     "execution_count": 30,
     "metadata": {},
     "output_type": "execute_result"
    },
    {
     "data": {
      "text/plain": [
       "<Figure size 1440x1296 with 0 Axes>"
      ]
     },
     "metadata": {},
     "output_type": "display_data"
    },
    {
     "data": {
      "image/png": "[encoded data removed]",
      "text/plain": [
       "<Figure size 1080x216 with 5 Axes>"
      ]
     },
     "metadata": {
      "needs_background": "light"
     },
     "output_type": "display_data"
    }
   ],
   "source": [
    "#Review length vs. Rating\n",
    "plt.figure(figsize = (20,18))\n",
    "hist = sns.FacetGrid(data=df, col='rating', palette = \"Set3\")\n",
    "hist = hist.map(plt.hist, 'review_length', bins=50)\n",
    "hist.set_axis_labels(\"Review Word Count\", \"Count\")\n"
   ]
  },
  {
   "cell_type": "code",
   "execution_count": 31,
   "metadata": {},
   "outputs": [
    {
     "data": {
      "text/plain": [
       "<seaborn.axisgrid.FacetGrid at 0x219c4449970>"
      ]
     },
     "execution_count": 31,
     "metadata": {},
     "output_type": "execute_result"
    },
    {
     "data": {
      "image/png": "[encoded data removed]",
      "text/plain": [
       "<Figure size 360x360 with 1 Axes>"
      ]
     },
     "metadata": {
      "needs_background": "light"
     },
     "output_type": "display_data"
    }
   ],
   "source": [
    "# Overall 'rating' distribution\n",
    "sns.catplot(x=\"rating\", kind=\"count\", data=df, color = (0.2, 0.4, 0.6, 0.6))"
   ]
  },
  {
   "cell_type": "code",
   "execution_count": 32,
   "metadata": {},
   "outputs": [
    {
     "name": "stderr",
     "output_type": "stream",
     "text": [
      "C:\\Users\\KitaeKim\\miniconda3\\lib\\site-packages\\seaborn\\_decorators.py:36: FutureWarning: Pass the following variable as a keyword arg: x. From version 0.12, the only valid positional argument will be `data`, and passing other arguments without an explicit keyword will result in an error or misinterpretation.\n",
      "  warnings.warn(\n"
     ]
    },
    {
     "data": {
      "image/png": "[encoded data removed]",
      "text/plain": [
       "<Figure size 720x720 with 18 Axes>"
      ]
     },
     "metadata": {
      "needs_background": "light"
     },
     "output_type": "display_data"
    }
   ],
   "source": [
    "# 'rating' distribution per site\n",
    "g3 = sns.catplot(\"rating\", col=\"site\", col_wrap=5,\n",
    "           data=df, kind=\"count\", height=2.5, aspect=.8)"
   ]
  },
  {
   "cell_type": "code",
   "execution_count": 33,
   "metadata": {},
   "outputs": [
    {
     "data": {
      "text/html": [
       "<div>\n",
       "<style scoped>\n",
       "    .dataframe tbody tr th:only-of-type {\n",
       "        vertical-align: middle;\n",
       "    }\n",
       "\n",
       "    .dataframe tbody tr th {\n",
       "        vertical-align: top;\n",
       "    }\n",
       "\n",
       "    .dataframe thead th {\n",
       "        text-align: right;\n",
       "    }\n",
       "</style>\n",
       "<table border=\"1\" class=\"dataframe\">\n",
       "  <thead>\n",
       "    <tr style=\"text-align: right;\">\n",
       "      <th></th>\n",
       "      <th>site</th>\n",
       "      <th>mean</th>\n",
       "    </tr>\n",
       "  </thead>\n",
       "  <tbody>\n",
       "    <tr>\n",
       "      <th>6</th>\n",
       "      <td>Hipmunk</td>\n",
       "      <td>4.333333</td>\n",
       "    </tr>\n",
       "    <tr>\n",
       "      <th>1</th>\n",
       "      <td>BookIt.com</td>\n",
       "      <td>4.086067</td>\n",
       "    </tr>\n",
       "    <tr>\n",
       "      <th>9</th>\n",
       "      <td>Jetsetter</td>\n",
       "      <td>3.875000</td>\n",
       "    </tr>\n",
       "    <tr>\n",
       "      <th>15</th>\n",
       "      <td>Travelzoo</td>\n",
       "      <td>3.343750</td>\n",
       "    </tr>\n",
       "    <tr>\n",
       "      <th>3</th>\n",
       "      <td>CheapOair</td>\n",
       "      <td>3.084242</td>\n",
       "    </tr>\n",
       "    <tr>\n",
       "      <th>17</th>\n",
       "      <td>trivago</td>\n",
       "      <td>1.981982</td>\n",
       "    </tr>\n",
       "    <tr>\n",
       "      <th>16</th>\n",
       "      <td>TripAdvisor</td>\n",
       "      <td>1.570827</td>\n",
       "    </tr>\n",
       "    <tr>\n",
       "      <th>10</th>\n",
       "      <td>KAYAK</td>\n",
       "      <td>1.484536</td>\n",
       "    </tr>\n",
       "    <tr>\n",
       "      <th>0</th>\n",
       "      <td>Airbnb</td>\n",
       "      <td>1.281250</td>\n",
       "    </tr>\n",
       "    <tr>\n",
       "      <th>11</th>\n",
       "      <td>OneTravel</td>\n",
       "      <td>1.196231</td>\n",
       "    </tr>\n",
       "    <tr>\n",
       "      <th>2</th>\n",
       "      <td>Booking.com</td>\n",
       "      <td>1.176343</td>\n",
       "    </tr>\n",
       "    <tr>\n",
       "      <th>7</th>\n",
       "      <td>Hotels.com</td>\n",
       "      <td>1.127632</td>\n",
       "    </tr>\n",
       "    <tr>\n",
       "      <th>14</th>\n",
       "      <td>Travelocity</td>\n",
       "      <td>1.124411</td>\n",
       "    </tr>\n",
       "    <tr>\n",
       "      <th>5</th>\n",
       "      <td>Expedia</td>\n",
       "      <td>1.120525</td>\n",
       "    </tr>\n",
       "    <tr>\n",
       "      <th>4</th>\n",
       "      <td>CheapTickets</td>\n",
       "      <td>1.119874</td>\n",
       "    </tr>\n",
       "    <tr>\n",
       "      <th>13</th>\n",
       "      <td>Priceline</td>\n",
       "      <td>1.107095</td>\n",
       "    </tr>\n",
       "    <tr>\n",
       "      <th>12</th>\n",
       "      <td>Orbitz</td>\n",
       "      <td>1.098485</td>\n",
       "    </tr>\n",
       "    <tr>\n",
       "      <th>8</th>\n",
       "      <td>Hotwire</td>\n",
       "      <td>1.073806</td>\n",
       "    </tr>\n",
       "  </tbody>\n",
       "</table>\n",
       "</div>"
      ],
      "text/plain": [
       "            site      mean\n",
       "6        Hipmunk  4.333333\n",
       "1     BookIt.com  4.086067\n",
       "9      Jetsetter  3.875000\n",
       "15     Travelzoo  3.343750\n",
       "3      CheapOair  3.084242\n",
       "17       trivago  1.981982\n",
       "16   TripAdvisor  1.570827\n",
       "10         KAYAK  1.484536\n",
       "0         Airbnb  1.281250\n",
       "11     OneTravel  1.196231\n",
       "2    Booking.com  1.176343\n",
       "7     Hotels.com  1.127632\n",
       "14   Travelocity  1.124411\n",
       "5        Expedia  1.120525\n",
       "4   CheapTickets  1.119874\n",
       "13     Priceline  1.107095\n",
       "12        Orbitz  1.098485\n",
       "8        Hotwire  1.073806"
      ]
     },
     "execution_count": 33,
     "metadata": {},
     "output_type": "execute_result"
    }
   ],
   "source": [
    "# average 'rating' per site\n",
    "group = df.groupby('site').agg(['mean'])['rating']\n",
    "group = group.reset_index()\n",
    "#group.sort_values(by ='rating mean')\n",
    "group = group.sort_values(by = 'mean', ascending = False)\n",
    "group"
   ]
  },
  {
   "cell_type": "code",
   "execution_count": 34,
   "metadata": {},
   "outputs": [
    {
     "data": {
      "text/plain": [
       "Text(0, 0.5, 'Site')"
      ]
     },
     "execution_count": 34,
     "metadata": {},
     "output_type": "execute_result"
    },
    {
     "data": {
      "image/png": "[encoded data removed]",
      "text/plain": [
       "<Figure size 576x576 with 1 Axes>"
      ]
     },
     "metadata": {
      "needs_background": "light"
     },
     "output_type": "display_data"
    }
   ],
   "source": [
    "plt.figure(figsize=(8, 8))\n",
    "g4 = sns.barplot(x='mean', y='site', data =  group, color = sns.xkcd_rgb[\"medium green\"])\n",
    "#ax.set(xlabel='Counts', ylabel='State')\n",
    "g4.set_xlabel(\"Avg. Rating Score\",fontsize=15)\n",
    "g4.set_ylabel(\"Site\",fontsize=15)\n",
    "\n"
   ]
  },
  {
   "cell_type": "markdown",
   "metadata": {},
   "source": [
    "# No. of reviews by Country (US and Canada)"
   ]
  },
  {
   "cell_type": "code",
   "execution_count": 35,
   "metadata": {},
   "outputs": [],
   "source": [
    "us_state = [\"AL\", \"AK\", \"AZ\", \"AR\", \"CA\", \"CO\", \"CT\", \"DC\", \"DE\", \"FL\", \"GA\", \n",
    "          \"HI\", \"ID\", \"IL\", \"IN\", \"IA\", \"KS\", \"KY\", \"LA\", \"ME\", \"MD\", \"MA\", \"MI\", \"MN\", \"MS\", \n",
    "          \"MO\", \"MT\", \"NE\", \"NV\", \"NH\", \"NJ\", \"NM\", \"NY\", \"NC\", \"ND\", \"OH\", \"OK\", \"OR\", \"PA\", \n",
    "          \"RI\", \"SC\", \"SD\", \"TN\", \"TX\", \"UT\", \"VT\", \"VA\", \"WA\", \"WV\", \"WI\", \"WY\"]\n",
    "\n",
    "df_us = df.loc[df.state.isin(us_state)]\n",
    "\n",
    "ca_state = [\"AB\", \"BC\", \"MB\", \"NB\", \"NL\", \"NT\", \"NS\", \"NU\", \"ON\", \"PE\", \"QC\", \"SK\", \"YT\"]\n",
    "\n",
    "df_ca = df.loc[df.state.isin(ca_state)]"
   ]
  },
  {
   "cell_type": "code",
   "execution_count": 36,
   "metadata": {},
   "outputs": [],
   "source": [
    "x = df_us['state'].value_counts()\n",
    "y = x.to_dict()"
   ]
  },
  {
   "cell_type": "code",
   "execution_count": 43,
   "metadata": {},
   "outputs": [
    {
     "data": {
      "text/plain": [
       "0        IL\n",
       "1        CA\n",
       "2        NY\n",
       "3        MI\n",
       "4        HI\n",
       "         ..\n",
       "35351    NY\n",
       "35352    NY\n",
       "35354    MD\n",
       "35355    MD\n",
       "35357    NJ\n",
       "Name: state, Length: 29456, dtype: object"
      ]
     },
     "execution_count": 43,
     "metadata": {},
     "output_type": "execute_result"
    }
   ],
   "source": [
    "df_us.groupby('state')['state'].transform(pd.Series)"
   ]
  },
  {
   "cell_type": "code",
   "execution_count": 44,
   "metadata": {},
   "outputs": [
    {
     "data": {
      "text/plain": [
       "Text(0, 0.5, 'State')"
      ]
     },
     "execution_count": 44,
     "metadata": {},
     "output_type": "execute_result"
    },
    {
     "data": {
      "image/png": "[encoded data removed]",
      "text/plain": [
       "<Figure size 720x864 with 1 Axes>"
      ]
     },
     "metadata": {
      "needs_background": "light"
     },
     "output_type": "display_data"
    }
   ],
   "source": [
    "# No. of reviews by US State\n",
    "\n",
    "plt.figure(figsize=(10, 12))\n",
    "g5 = sns.barplot(x=df_us.state.value_counts(), y=df_us.state.value_counts().index, color = (0.2, 0.4, 0.6, 0.6))\n",
    "#ax.set(xlabel='Counts', ylabel='State')\n",
    "g5.set_xlabel(\"Count\",fontsize=20)\n",
    "g5.set_ylabel(\"State\",fontsize=20)"
   ]
  },
  {
   "cell_type": "code",
   "execution_count": 45,
   "metadata": {
    "scrolled": false
   },
   "outputs": [
    {
     "data": {
      "text/html": [
       "<div>\n",
       "<style scoped>\n",
       "    .dataframe tbody tr th:only-of-type {\n",
       "        vertical-align: middle;\n",
       "    }\n",
       "\n",
       "    .dataframe tbody tr th {\n",
       "        vertical-align: top;\n",
       "    }\n",
       "\n",
       "    .dataframe thead th {\n",
       "        text-align: right;\n",
       "    }\n",
       "</style>\n",
       "<table border=\"1\" class=\"dataframe\">\n",
       "  <thead>\n",
       "    <tr style=\"text-align: right;\">\n",
       "      <th></th>\n",
       "      <th>state</th>\n",
       "      <th>site</th>\n",
       "      <th>Count</th>\n",
       "    </tr>\n",
       "  </thead>\n",
       "  <tbody>\n",
       "    <tr>\n",
       "      <th>445</th>\n",
       "      <td>NJ</td>\n",
       "      <td>BookIt.com</td>\n",
       "      <td>349</td>\n",
       "    </tr>\n",
       "    <tr>\n",
       "      <th>447</th>\n",
       "      <td>NJ</td>\n",
       "      <td>CheapOair</td>\n",
       "      <td>180</td>\n",
       "    </tr>\n",
       "    <tr>\n",
       "      <th>449</th>\n",
       "      <td>NJ</td>\n",
       "      <td>Expedia</td>\n",
       "      <td>143</td>\n",
       "    </tr>\n",
       "    <tr>\n",
       "      <th>456</th>\n",
       "      <td>NJ</td>\n",
       "      <td>Priceline</td>\n",
       "      <td>88</td>\n",
       "    </tr>\n",
       "    <tr>\n",
       "      <th>446</th>\n",
       "      <td>NJ</td>\n",
       "      <td>Booking.com</td>\n",
       "      <td>65</td>\n",
       "    </tr>\n",
       "  </tbody>\n",
       "</table>\n",
       "</div>"
      ],
      "text/plain": [
       "    state         site  Count\n",
       "445    NJ   BookIt.com    349\n",
       "447    NJ    CheapOair    180\n",
       "449    NJ      Expedia    143\n",
       "456    NJ    Priceline     88\n",
       "446    NJ  Booking.com     65"
      ]
     },
     "execution_count": 45,
     "metadata": {},
     "output_type": "execute_result"
    }
   ],
   "source": [
    "df_us1 = df_us.groupby(['state', 'site']).size().reset_index(name = 'Count')\n",
    "\n",
    "state_site_list = []\n",
    "for x in us_state:\n",
    "    top5_site = df_us1[df_us1['state'] == x].sort_values(by='Count', ascending =False).head(5)\n",
    "    state_site_list.append(top5_site)\n",
    "    \n",
    "top5_site_all = pd.concat(state_site_list)\n",
    "top5_site_all[top5_site_all['state'] == 'NJ']\n"
   ]
  },
  {
   "cell_type": "code",
   "execution_count": 47,
   "metadata": {
    "scrolled": false
   },
   "outputs": [
    {
     "data": {
      "text/plain": [
       "[Text(0.5, 0, 'Counts'), Text(0, 0.5, 'State')]"
      ]
     },
     "execution_count": 47,
     "metadata": {},
     "output_type": "execute_result"
    },
    {
     "data": {
      "image/png": "[encoded data removed]",
      "text/plain": [
       "<Figure size 720x432 with 1 Axes>"
      ]
     },
     "metadata": {
      "needs_background": "light"
     },
     "output_type": "display_data"
    }
   ],
   "source": [
    "# No. of Review by Canadian State\n",
    "plt.figure(figsize=(10,6))\n",
    "g6 = sns.barplot(x=df_ca.state.value_counts(), y=df_ca.state.value_counts().index, color = sns.xkcd_rgb[\"red\"])\n",
    "g6.set(xlabel='Counts', ylabel='State')"
   ]
  },
  {
   "cell_type": "code",
   "execution_count": 48,
   "metadata": {},
   "outputs": [
    {
     "data": {
      "text/html": [
       "<div>\n",
       "<style scoped>\n",
       "    .dataframe tbody tr th:only-of-type {\n",
       "        vertical-align: middle;\n",
       "    }\n",
       "\n",
       "    .dataframe tbody tr th {\n",
       "        vertical-align: top;\n",
       "    }\n",
       "\n",
       "    .dataframe thead th {\n",
       "        text-align: right;\n",
       "    }\n",
       "</style>\n",
       "<table border=\"1\" class=\"dataframe\">\n",
       "  <thead>\n",
       "    <tr style=\"text-align: right;\">\n",
       "      <th></th>\n",
       "      <th>state</th>\n",
       "      <th>site</th>\n",
       "      <th>Count</th>\n",
       "    </tr>\n",
       "  </thead>\n",
       "  <tbody>\n",
       "    <tr>\n",
       "      <th>72</th>\n",
       "      <td>ON</td>\n",
       "      <td>Expedia</td>\n",
       "      <td>175</td>\n",
       "    </tr>\n",
       "    <tr>\n",
       "      <th>70</th>\n",
       "      <td>ON</td>\n",
       "      <td>CheapOair</td>\n",
       "      <td>166</td>\n",
       "    </tr>\n",
       "    <tr>\n",
       "      <th>68</th>\n",
       "      <td>ON</td>\n",
       "      <td>BookIt.com</td>\n",
       "      <td>98</td>\n",
       "    </tr>\n",
       "    <tr>\n",
       "      <th>69</th>\n",
       "      <td>ON</td>\n",
       "      <td>Booking.com</td>\n",
       "      <td>84</td>\n",
       "    </tr>\n",
       "    <tr>\n",
       "      <th>78</th>\n",
       "      <td>ON</td>\n",
       "      <td>Priceline</td>\n",
       "      <td>69</td>\n",
       "    </tr>\n",
       "  </tbody>\n",
       "</table>\n",
       "</div>"
      ],
      "text/plain": [
       "   state         site  Count\n",
       "72    ON      Expedia    175\n",
       "70    ON    CheapOair    166\n",
       "68    ON   BookIt.com     98\n",
       "69    ON  Booking.com     84\n",
       "78    ON    Priceline     69"
      ]
     },
     "execution_count": 48,
     "metadata": {},
     "output_type": "execute_result"
    }
   ],
   "source": [
    "df_ca1 = df_ca.groupby(['state', 'site']).size().reset_index(name = 'Count')\n",
    "\n",
    "castate_site_list = []\n",
    "for x in ca_state:\n",
    "    catop5_site = df_ca1[df_ca1['state'] == x].sort_values(by='Count', ascending =False).head(5)\n",
    "    castate_site_list.append(catop5_site)\n",
    "    \n",
    "catop5_site_all = pd.concat(castate_site_list)\n",
    "catop5_site_all[catop5_site_all['state'] == 'ON']\n"
   ]
  },
  {
   "cell_type": "code",
   "execution_count": null,
   "metadata": {},
   "outputs": [],
   "source": []
  },
  {
   "cell_type": "markdown",
   "metadata": {},
   "source": [
    "# Percentage Review"
   ]
  },
  {
   "cell_type": "code",
   "execution_count": 51,
   "metadata": {},
   "outputs": [
    {
     "name": "stdout",
     "output_type": "stream",
     "text": [
      "1.38\n"
     ]
    }
   ],
   "source": [
    "# Percentage of 'Non-text review' normalized over the number of reviews\n",
    "print(round(sum(df['text']=='')/df.shape[0]*100, 2))"
   ]
  },
  {
   "cell_type": "code",
   "execution_count": 52,
   "metadata": {},
   "outputs": [
    {
     "name": "stdout",
     "output_type": "stream",
     "text": [
      "80.28\n"
     ]
    }
   ],
   "source": [
    "# Percentage of verified reviewers over the number of reviews\n",
    "print(round(sum(df['verified_reviewer'] == 'VerifiedReviewer')/df.shape[0]*100,2))"
   ]
  },
  {
   "cell_type": "code",
   "execution_count": 53,
   "metadata": {},
   "outputs": [
    {
     "name": "stdout",
     "output_type": "stream",
     "text": [
      "45.66\n"
     ]
    }
   ],
   "source": [
    "# Percentage of verfieid buyer over the number of reviews\n",
    "print(round(sum(df['verified_buyer'] == 'VerifiedBuyer')/df.shape[0]*100, 2))"
   ]
  },
  {
   "cell_type": "code",
   "execution_count": 55,
   "metadata": {},
   "outputs": [],
   "source": [
    "df.to_csv('data/df.csv')"
   ]
  },
  {
   "cell_type": "code",
   "execution_count": null,
   "metadata": {},
   "outputs": [],
   "source": []
  }
 ],
 "metadata": {
  "kernelspec": {
   "display_name": "Python 3",
   "language": "python",
   "name": "python3"
  },
  "language_info": {
   "codemirror_mode": {
    "name": "ipython",
    "version": 3
   },
   "file_extension": ".py",
   "mimetype": "text/x-python",
   "name": "python",
   "nbconvert_exporter": "python",
   "pygments_lexer": "ipython3",
   "version": "3.8.3"
  }
 },
 "nbformat": 4,
 "nbformat_minor": 2
}
